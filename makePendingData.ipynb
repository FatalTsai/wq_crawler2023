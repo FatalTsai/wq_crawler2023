{
 "cells": [
  {
   "cell_type": "code",
   "execution_count": 7,
   "metadata": {},
   "outputs": [],
   "source": [
    "import json\n",
    "\n",
    "for i in range(1,200):\n",
    "    for j in range(1,200):\n",
    "            tmp = {\n",
    "                    'type': 'REGULAR',\n",
    "                    'settings': {\n",
    "                        'instrumentType': 'EQUITY',\n",
    "                        'region': 'USA',\n",
    "                        'universe': 'TOP3000',\n",
    "                        'delay': 1,\n",
    "                        'decay': 15,\n",
    "                        'neutralization': 'SUBINDUSTRY',\n",
    "                        'truncation': 0.08,\n",
    "                        'pasteurization': 'ON',\n",
    "                        'unitHandling': 'VERIFY',\n",
    "                        'nanHandling': 'OFF',\n",
    "                        'language': 'FASTEXPR',\n",
    "                        'visualization': False,\n",
    "                    },\n",
    "                    'regular': f'buzz = ts_backfill(-vec_sum(scl12_alltype_buzzvec),{i});\\r\\nts_av_diff(buzz,{j})'\n",
    "                }\n",
    "            \n",
    "                # print(tmp)\n",
    "            with open(f\"pending\\pendingTestData_{i}_{j}.json\", \"w\") as outfile:\n",
    "                json.dump(tmp, outfile)\n",
    "\n"
   ]
  }
 ],
 "metadata": {
  "kernelspec": {
   "display_name": "Python 3",
   "language": "python",
   "name": "python3"
  },
  "language_info": {
   "codemirror_mode": {
    "name": "ipython",
    "version": 3
   },
   "file_extension": ".py",
   "mimetype": "text/x-python",
   "name": "python",
   "nbconvert_exporter": "python",
   "pygments_lexer": "ipython3",
   "version": "3.10.11"
  }
 },
 "nbformat": 4,
 "nbformat_minor": 2
}
